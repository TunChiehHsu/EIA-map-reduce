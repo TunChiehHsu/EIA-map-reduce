{
 "cells": [
  {
   "cell_type": "code",
   "execution_count": 5,
   "metadata": {
    "collapsed": true
   },
   "outputs": [],
   "source": [
    "# coding: utf-8\n",
    "from collections import defaultdict\n",
    "from itertools import product\n",
    "\n",
    "# print cycle\n",
    "def printCycle(tl, tr, fp):\n",
    "    for head, tail in product(tl, tr):\n",
    "        #flag = True\n",
    "        for elem in head[1:-1]:\n",
    "            if(elem in tail[1:-1]):\n",
    "                #flag = False\n",
    "                break\n",
    "        #if(flag == True):\n",
    "        else:\n",
    "            cycle = head + tail[1:]\n",
    "            print ' -> '.join(map(str, cycle))\n",
    "            fp.write(','.join(map(str, cycle)) + '\\n')\n",
    "\n",
    "# do connect\n",
    "def findConnected(th, t2l, fp):\n",
    "    tr = defaultdict(set)\n",
    "    tl = defaultdict(set)\n",
    "    \n",
    "    for chain in th:\n",
    "        tr[chain[-1]].add(chain)\n",
    "    for chain in t2l:\n",
    "        tl[chain[0]].add(chain)\n",
    "    \n",
    "    for connectElement, lchain in tr.iteritems():\n",
    "        printCycle(lchain, tl[connectElement], fp)\n",
    "\n",
    "# find cycle and print\n",
    "def find_cycle(TnR, TnL, fp):\n",
    "    for source, chains in TnR.iteritems(): \n",
    "        if source not in TnL:\n",
    "            continue\n",
    "        findConnected(chains, TnL[source], fp)\n",
    "\n",
    "# do join on TnR and Tn\n",
    "# input TnR should be defaultdict and Tn should be list\n",
    "def join_rchain(TnR, Tn):\n",
    "    #Tn1R_list = [chain for tr in TnR.itervalues() for tr_chain in tr for chain in [tr_chain+(trg,) for src, trg in Tn if tr_chain[-1] == src and trg > tr_chain[0] and trg not in tr_chain]]\n",
    "    Tn1R_list = [chain for tr in TnR.itervalues() for tr_chain in tr for chain in [tr_chain+(trg,) for trg in Tn[tr_chain[-1]] if trg > tr_chain[0] and trg not in tr_chain]]\n",
    "    Tn1R = defaultdict(set)\n",
    "    for chain in Tn1R_list:\n",
    "        Tn1R[chain[0]].add(chain)\n",
    "    return Tn1R\n",
    "\n",
    "# do join on TnL and Tn\n",
    "# input TnL should be defaultdict and Tn should be list\n",
    "def join_lchain(TnL, Tn):\n",
    "    #Tn1L_list = [chain for tl in TnL.itervalues() for tl_chain in tl for chain in [(src,)+tl_chain for src, trg in Tn if tl_chain[0] == trg and src > tl_chain[-1] and src not in tl_chain]]\n",
    "    Tn1L_list = [chain for tl in TnL.itervalues() for tl_chain in tl for chain in [(src,)+tl_chain for src in Tn[tl_chain[0]] if src > tl_chain[-1] and src not in tl_chain]]\n",
    "    Tn1L = defaultdict(set)\n",
    "    for chain in Tn1L_list:\n",
    "        Tn1L[chain[-1]].add(chain)\n",
    "    return Tn1L\n",
    "\n",
    "# Endpoint Inward Algo\n",
    "def EIA(transaction_list, L):\n",
    "    if(L < 3):\n",
    "        print \"Cycle lenth should greater than 2\"\n",
    "        return\n",
    "    # transfer data to defaultdict format\n",
    "    # split data to TnH and TnL\n",
    "    #Tn = transaction_list\n",
    "    Tn_r = defaultdict(set)\n",
    "    Tn_l = defaultdict(set)\n",
    "    TnH = defaultdict(set)\n",
    "    TnL = defaultdict(set)\n",
    "    \n",
    "    for chain in transaction_list:\n",
    "        src, trg = chain[0], chain[-1]\n",
    "        Tn_r[src].add(trg)\n",
    "        Tn_l[trg].add(src)\n",
    "        if src < trg:\n",
    "            TnH[src].add(chain)\n",
    "        else:\n",
    "            TnL[trg].add(chain)\n",
    "    \n",
    "    output_file = open(\"test.csv\", \"w\")\n",
    "    # TnH, TnL here represent Tnr and Tnl\n",
    "    lenth = 3\n",
    "    find_cycle(TnH, TnL, output_file)\n",
    "    while(1):\n",
    "        lenth += 1\n",
    "        if(lenth > L):\n",
    "            break\n",
    "        TnH = join_rchain(TnH, Tn_r)\n",
    "        if(TnH.keys() == []):\n",
    "            break\n",
    "        find_cycle(TnH, TnL, output_file)\n",
    "\n",
    "        lenth += 1\n",
    "        if(lenth > L):\n",
    "            break\n",
    "        TnL = join_lchain(TnL, Tn_l)\n",
    "        if(TnL.keys() == []):\n",
    "            break\n",
    "        find_cycle(TnH, TnL, output_file)\n",
    "\n",
    "    output_file.close()\n",
    "# read in input \n",
    "transaction_list = []\n",
    "\n",
    "\n",
    "\n",
    "\n",
    "\n"
   ]
  },
  {
   "cell_type": "markdown",
   "metadata": {
    "run_control": {}
   },
   "source": [
    "####  Toy Example "
   ]
  },
  {
   "cell_type": "code",
   "execution_count": 6,
   "metadata": {
    "collapsed": true
   },
   "outputs": [],
   "source": [
    "transaction_list = []\n",
    "transaction_list = [(\"A\",\"C\"),(\"B\",\"A\"),(\"B\",\"D\"),(\"C\",\"B\"),(\"C\",\"D\"),(\"D\",\"A\"),(\"D\",\"C\")]\n",
    "transaction_list = [(\"A\",\"C\"),(\"B\",\"A\"),(\"B\",\"D\"),(\"C\",\"B\"),\n",
    "                    (\"C\",\"D\"),(\"D\",\"A\"),(\"D\",\"C\"),(\"a\",\"c\"),\n",
    "                    (\"b\",\"a\"),(\"b\",\"d\"),(\"c\",\"b\"),(\"c\",\"d\"),\n",
    "                    (\"b\",\"B\"),(\"b\",\"D\")]\n",
    "\n",
    "\n"
   ]
  },
  {
   "cell_type": "code",
   "execution_count": 7,
   "metadata": {
    "collapsed": false
   },
   "outputs": [
    {
     "name": "stdout",
     "output_type": "stream",
     "text": [
      "Please enter the lenth of cycle : 5\n",
      "C -> D -> C\n",
      "A -> C -> B -> A\n",
      "A -> C -> D -> A\n",
      "a -> c -> b -> a\n",
      "B -> D -> C -> B\n",
      "A -> C -> B -> D -> A\n"
     ]
    }
   ],
   "source": [
    "# get lenth of cycle\n",
    "n = input(\"Please enter the lenth of cycle : \")\n",
    "\n",
    "#run Endpoint Inward Algo\n",
    "EIA(transaction_list, n)\n",
    "\n",
    "\n"
   ]
  },
  {
   "cell_type": "code",
   "execution_count": null,
   "metadata": {
    "collapsed": true,
    "run_control": {}
   },
   "outputs": [],
   "source": []
  }
 ],
 "metadata": {
  "kernelspec": {
   "display_name": "Python 2",
   "language": "python",
   "name": "python2"
  },
  "language_info": {
   "codemirror_mode": {
    "name": "ipython",
    "version": 2
   },
   "file_extension": ".py",
   "mimetype": "text/x-python",
   "name": "python",
   "nbconvert_exporter": "python",
   "pygments_lexer": "ipython2",
   "version": "2.7"
  }
 },
 "nbformat": 4,
 "nbformat_minor": 0
}
